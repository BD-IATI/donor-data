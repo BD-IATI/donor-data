{
 "cells": [
  {
   "cell_type": "markdown",
   "metadata": {},
   "source": [
    "### Import modules and set up some helper functions"
   ]
  },
  {
   "cell_type": "code",
   "execution_count": 8,
   "metadata": {
    "collapsed": false
   },
   "outputs": [],
   "source": [
    "from lxml import etree\n",
    "import pandas as pd\n",
    "from collections import OrderedDict\n",
    "import re\n",
    "pd.options.mode.chained_assignment = None"
   ]
  },
  {
   "cell_type": "code",
   "execution_count": 9,
   "metadata": {
    "collapsed": false
   },
   "outputs": [],
   "source": [
    "nsmap = {\"xml\": \"http://www.w3.org/XML/1998/namespace\"}\n",
    "def get_data(activity):\n",
    "    return OrderedDict({\n",
    "        \"iati_identifier\": activity.find(\"iati-identifier\").text,\n",
    "        \"title\": unicode(activity.find(\"title[@xml:lang='en']\", namespaces=nsmap).text),\n",
    "        \"implementing_org\": unicode(activity.find(\"participating-org[@role='Implementing']\").text),\n",
    "    })\n",
    "def parse_activities(activities):\n",
    "    for activity in activities:\n",
    "        yield get_data(activity)\n",
    "def correct_project_id(prefix, project_id):\n",
    "    return \"%s-%s\" % (prefix, re.sub(\"\\.\", \"\", project_id))"
   ]
  },
  {
   "cell_type": "markdown",
   "metadata": {},
   "source": [
    "### Get IATI data"
   ]
  },
  {
   "cell_type": "markdown",
   "metadata": {},
   "source": [
    "We extract data from the IATI Datastore using the following command:\n",
    "```\n",
    "wget \"http://datastore.iatistandard.org/api/1/access/activity.xml?reporting-org=DE-1&recipient-country=BD&stream=True\" -O bmz-20160121.xml\n",
    "```"
   ]
  },
  {
   "cell_type": "code",
   "execution_count": 10,
   "metadata": {
    "collapsed": false
   },
   "outputs": [],
   "source": [
    "doc = etree.parse(\"bmz-20160121.xml\")\n",
    "activities = doc.xpath(\"//iati-activity\")\n",
    "iati_data = pd.DataFrame(parse_activities(activities))\n",
    "giz_iati = iati_data[iati_data[\"implementing_org\"] == u\"Gesellschaft für internationale Zusammenarbeit (GIZ) GmbH\"]\n",
    "giz_iati = giz_iati.set_index(\"iati_identifier\")"
   ]
  },
  {
   "cell_type": "markdown",
   "metadata": {},
   "source": [
    "### Get AIMS data"
   ]
  },
  {
   "cell_type": "code",
   "execution_count": 11,
   "metadata": {
    "collapsed": true
   },
   "outputs": [],
   "source": [
    "aims_data = pd.read_csv(\"../DashboardReport.csv\")\n",
    "giz_aims = aims_data[aims_data[\"Managing DP\"]==\"Deutsche Gesellschaft f\\xc3\\xbcr  Internationale Zusammenarbeit (GIZ) GmbH (GIZ)\"]\n",
    "giz_aims = giz_aims[[\"DP Project No\", \"Project Title\"]]\n",
    "giz_aims[\"iati_identifier\"] = giz_aims[\"DP Project No\"].apply(lambda x: correct_project_id(\"DE-1\", x))\n",
    "giz_aims = giz_aims.set_index([\"iati_identifier\"])\n",
    "giz_aims = giz_aims.rename(columns={\n",
    "        \"DP Project No\": \"project_id_aims\",\n",
    "        \"Project Title\": \"title\",\n",
    "    })"
   ]
  },
  {
   "cell_type": "markdown",
   "metadata": {},
   "source": [
    "## Which projects are found in AIMS and in IATI?"
   ]
  },
  {
   "cell_type": "code",
   "execution_count": 12,
   "metadata": {
    "collapsed": false
   },
   "outputs": [
    {
     "data": {
      "text/html": [
       "<div>\n",
       "<table border=\"1\" class=\"dataframe\">\n",
       "  <thead>\n",
       "    <tr style=\"text-align: right;\">\n",
       "      <th></th>\n",
       "      <th>project_id_aims</th>\n",
       "      <th>title_aims</th>\n",
       "      <th>implementing_org</th>\n",
       "      <th>title_iati</th>\n",
       "    </tr>\n",
       "    <tr>\n",
       "      <th>iati_identifier</th>\n",
       "      <th></th>\n",
       "      <th></th>\n",
       "      <th></th>\n",
       "      <th></th>\n",
       "    </tr>\n",
       "  </thead>\n",
       "  <tbody>\n",
       "    <tr>\n",
       "      <th>DE-1-200135012</th>\n",
       "      <td>2001.3501.2</td>\n",
       "      <td>Study and Expert Fund</td>\n",
       "      <td>Gesellschaft für internationale Zusammenarbeit...</td>\n",
       "      <td>Studies and Expert Fund</td>\n",
       "    </tr>\n",
       "    <tr>\n",
       "      <th>DE-1-200820720</th>\n",
       "      <td>2008.2072.0</td>\n",
       "      <td>Wetland Biodiversity Protection Project</td>\n",
       "      <td>Gesellschaft für internationale Zusammenarbeit...</td>\n",
       "      <td>Wetland Biodiversity Protection Project</td>\n",
       "    </tr>\n",
       "    <tr>\n",
       "      <th>DE-1-200922054</th>\n",
       "      <td>2009.2205.4</td>\n",
       "      <td>Promotion of Social and Environmental Standard...</td>\n",
       "      <td>Gesellschaft für internationale Zusammenarbeit...</td>\n",
       "      <td>Promotion of Social and Environmental Standard...</td>\n",
       "    </tr>\n",
       "    <tr>\n",
       "      <th>DE-1-200922401</th>\n",
       "      <td>2009.2240.1</td>\n",
       "      <td>Management of Natural Resources and Community ...</td>\n",
       "      <td>Gesellschaft für internationale Zusammenarbeit...</td>\n",
       "      <td>Management of Natural Resources and Community ...</td>\n",
       "    </tr>\n",
       "    <tr>\n",
       "      <th>DE-1-201022201</th>\n",
       "      <td>2010.2220.1</td>\n",
       "      <td>Sustainable Development and Biodiversity Conse...</td>\n",
       "      <td>Gesellschaft für internationale Zusammenarbeit...</td>\n",
       "      <td>Sustainable Development and Biodiversity Conse...</td>\n",
       "    </tr>\n",
       "    <tr>\n",
       "      <th>DE-1-201121672</th>\n",
       "      <td>2011.2167.2</td>\n",
       "      <td>Adressing Bangladesh's Demographic Challenges</td>\n",
       "      <td>Gesellschaft für internationale Zusammenarbeit...</td>\n",
       "      <td>Addressing Bangladesh's Demographic Challenges...</td>\n",
       "    </tr>\n",
       "    <tr>\n",
       "      <th>DE-1-201220979</th>\n",
       "      <td>2012.2097.9</td>\n",
       "      <td>Renewable Energy and Energy Efficiency Programme</td>\n",
       "      <td>Gesellschaft für internationale Zusammenarbeit...</td>\n",
       "      <td>Renewable Energy and Energy Efficiency Programme</td>\n",
       "    </tr>\n",
       "    <tr>\n",
       "      <th>DE-1-201220987</th>\n",
       "      <td>NOT FOUND</td>\n",
       "      <td>NOT FOUND</td>\n",
       "      <td>Gesellschaft für internationale Zusammenarbeit...</td>\n",
       "      <td>Prison and Justice Reform for Promoting Human ...</td>\n",
       "    </tr>\n",
       "    <tr>\n",
       "      <th>DE-1-201220987-001</th>\n",
       "      <td>2012.2098.7-001</td>\n",
       "      <td>Improvement of the real Situation of overcrowd...</td>\n",
       "      <td>NOT FOUND</td>\n",
       "      <td>NOT FOUND</td>\n",
       "    </tr>\n",
       "    <tr>\n",
       "      <th>DE-1-201220987-003</th>\n",
       "      <td>2012.2098.7-003</td>\n",
       "      <td>Justice Reform and Corruption Prevention (JRCP)</td>\n",
       "      <td>NOT FOUND</td>\n",
       "      <td>NOT FOUND</td>\n",
       "    </tr>\n",
       "    <tr>\n",
       "      <th>DE-1-201222694</th>\n",
       "      <td>2012.2269.4</td>\n",
       "      <td>Good Governance in Urban Areas</td>\n",
       "      <td>Gesellschaft für internationale Zusammenarbeit...</td>\n",
       "      <td>Good Governance in Urban Areas</td>\n",
       "    </tr>\n",
       "    <tr>\n",
       "      <th>DE-1-201322585</th>\n",
       "      <td>2013.2258.5</td>\n",
       "      <td>Forest in Bangladesh (Sunderbans II)</td>\n",
       "      <td>Gesellschaft für internationale Zusammenarbeit...</td>\n",
       "      <td>Promotion of the Management of Sunderbans-Mang...</td>\n",
       "    </tr>\n",
       "    <tr>\n",
       "      <th>DE-1-201421072</th>\n",
       "      <td>NOT FOUND</td>\n",
       "      <td>NOT FOUND</td>\n",
       "      <td>Gesellschaft für internationale Zusammenarbeit...</td>\n",
       "      <td>Adaption to Climate Change into the National a...</td>\n",
       "    </tr>\n",
       "    <tr>\n",
       "      <th>DE-1-201421098</th>\n",
       "      <td>2014.2109.8</td>\n",
       "      <td>Support to Health Sector Programme</td>\n",
       "      <td>Gesellschaft für internationale Zusammenarbeit...</td>\n",
       "      <td>Support to Health Sector Programme</td>\n",
       "    </tr>\n",
       "    <tr>\n",
       "      <th>DE-1-201421114</th>\n",
       "      <td>NOT FOUND</td>\n",
       "      <td>NOT FOUND</td>\n",
       "      <td>Gesellschaft für internationale Zusammenarbeit...</td>\n",
       "      <td>Promotion of Social and Environmental Standard...</td>\n",
       "    </tr>\n",
       "    <tr>\n",
       "      <th>DE-1-201440551</th>\n",
       "      <td>2014.4055.1</td>\n",
       "      <td>Urban Management of internal Migration due to ...</td>\n",
       "      <td>NOT FOUND</td>\n",
       "      <td>NOT FOUND</td>\n",
       "    </tr>\n",
       "  </tbody>\n",
       "</table>\n",
       "</div>"
      ],
      "text/plain": [
       "                    project_id_aims  \\\n",
       "iati_identifier                       \n",
       "DE-1-200135012          2001.3501.2   \n",
       "DE-1-200820720          2008.2072.0   \n",
       "DE-1-200922054          2009.2205.4   \n",
       "DE-1-200922401          2009.2240.1   \n",
       "DE-1-201022201          2010.2220.1   \n",
       "DE-1-201121672          2011.2167.2   \n",
       "DE-1-201220979          2012.2097.9   \n",
       "DE-1-201220987            NOT FOUND   \n",
       "DE-1-201220987-001  2012.2098.7-001   \n",
       "DE-1-201220987-003  2012.2098.7-003   \n",
       "DE-1-201222694          2012.2269.4   \n",
       "DE-1-201322585          2013.2258.5   \n",
       "DE-1-201421072            NOT FOUND   \n",
       "DE-1-201421098          2014.2109.8   \n",
       "DE-1-201421114            NOT FOUND   \n",
       "DE-1-201440551          2014.4055.1   \n",
       "\n",
       "                                                           title_aims  \\\n",
       "iati_identifier                                                         \n",
       "DE-1-200135012                                  Study and Expert Fund   \n",
       "DE-1-200820720                Wetland Biodiversity Protection Project   \n",
       "DE-1-200922054      Promotion of Social and Environmental Standard...   \n",
       "DE-1-200922401      Management of Natural Resources and Community ...   \n",
       "DE-1-201022201      Sustainable Development and Biodiversity Conse...   \n",
       "DE-1-201121672          Adressing Bangladesh's Demographic Challenges   \n",
       "DE-1-201220979       Renewable Energy and Energy Efficiency Programme   \n",
       "DE-1-201220987                                              NOT FOUND   \n",
       "DE-1-201220987-001  Improvement of the real Situation of overcrowd...   \n",
       "DE-1-201220987-003    Justice Reform and Corruption Prevention (JRCP)   \n",
       "DE-1-201222694                         Good Governance in Urban Areas   \n",
       "DE-1-201322585                   Forest in Bangladesh (Sunderbans II)   \n",
       "DE-1-201421072                                              NOT FOUND   \n",
       "DE-1-201421098                     Support to Health Sector Programme   \n",
       "DE-1-201421114                                              NOT FOUND   \n",
       "DE-1-201440551      Urban Management of internal Migration due to ...   \n",
       "\n",
       "                                                     implementing_org  \\\n",
       "iati_identifier                                                         \n",
       "DE-1-200135012      Gesellschaft für internationale Zusammenarbeit...   \n",
       "DE-1-200820720      Gesellschaft für internationale Zusammenarbeit...   \n",
       "DE-1-200922054      Gesellschaft für internationale Zusammenarbeit...   \n",
       "DE-1-200922401      Gesellschaft für internationale Zusammenarbeit...   \n",
       "DE-1-201022201      Gesellschaft für internationale Zusammenarbeit...   \n",
       "DE-1-201121672      Gesellschaft für internationale Zusammenarbeit...   \n",
       "DE-1-201220979      Gesellschaft für internationale Zusammenarbeit...   \n",
       "DE-1-201220987      Gesellschaft für internationale Zusammenarbeit...   \n",
       "DE-1-201220987-001                                          NOT FOUND   \n",
       "DE-1-201220987-003                                          NOT FOUND   \n",
       "DE-1-201222694      Gesellschaft für internationale Zusammenarbeit...   \n",
       "DE-1-201322585      Gesellschaft für internationale Zusammenarbeit...   \n",
       "DE-1-201421072      Gesellschaft für internationale Zusammenarbeit...   \n",
       "DE-1-201421098      Gesellschaft für internationale Zusammenarbeit...   \n",
       "DE-1-201421114      Gesellschaft für internationale Zusammenarbeit...   \n",
       "DE-1-201440551                                              NOT FOUND   \n",
       "\n",
       "                                                           title_iati  \n",
       "iati_identifier                                                        \n",
       "DE-1-200135012                                Studies and Expert Fund  \n",
       "DE-1-200820720                Wetland Biodiversity Protection Project  \n",
       "DE-1-200922054      Promotion of Social and Environmental Standard...  \n",
       "DE-1-200922401      Management of Natural Resources and Community ...  \n",
       "DE-1-201022201      Sustainable Development and Biodiversity Conse...  \n",
       "DE-1-201121672      Addressing Bangladesh's Demographic Challenges...  \n",
       "DE-1-201220979       Renewable Energy and Energy Efficiency Programme  \n",
       "DE-1-201220987      Prison and Justice Reform for Promoting Human ...  \n",
       "DE-1-201220987-001                                          NOT FOUND  \n",
       "DE-1-201220987-003                                          NOT FOUND  \n",
       "DE-1-201222694                         Good Governance in Urban Areas  \n",
       "DE-1-201322585      Promotion of the Management of Sunderbans-Mang...  \n",
       "DE-1-201421072      Adaption to Climate Change into the National a...  \n",
       "DE-1-201421098                     Support to Health Sector Programme  \n",
       "DE-1-201421114      Promotion of Social and Environmental Standard...  \n",
       "DE-1-201440551                                              NOT FOUND  "
      ]
     },
     "execution_count": 12,
     "metadata": {},
     "output_type": "execute_result"
    }
   ],
   "source": [
    "aims_plus_iati = giz_aims.join(giz_iati, lsuffix=\"_aims\", rsuffix=\"_iati\", how=\"outer\").fillna(\"NOT FOUND\").sort_index()\n",
    "aims_plus_iati"
   ]
  },
  {
   "cell_type": "code",
   "execution_count": 13,
   "metadata": {
    "collapsed": false
   },
   "outputs": [],
   "source": [
    "aims_plus_iati.to_csv(\"iati_projects_and_aims.csv\", encoding='utf-8')"
   ]
  },
  {
   "cell_type": "code",
   "execution_count": null,
   "metadata": {
    "collapsed": true
   },
   "outputs": [],
   "source": []
  }
 ],
 "metadata": {
  "kernelspec": {
   "display_name": "Python 2",
   "language": "python",
   "name": "python2"
  },
  "language_info": {
   "codemirror_mode": {
    "name": "ipython",
    "version": 2
   },
   "file_extension": ".py",
   "mimetype": "text/x-python",
   "name": "python",
   "nbconvert_exporter": "python",
   "pygments_lexer": "ipython2",
   "version": "2.7.9"
  }
 },
 "nbformat": 4,
 "nbformat_minor": 0
}
