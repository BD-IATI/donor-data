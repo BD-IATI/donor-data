{
 "cells": [
  {
   "cell_type": "markdown",
   "metadata": {},
   "source": [
    "### Import modules and set up some helper functions"
   ]
  },
  {
   "cell_type": "code",
   "execution_count": 1,
   "metadata": {
    "collapsed": true
   },
   "outputs": [],
   "source": [
    "from lxml import etree\n",
    "import pandas as pd\n",
    "from collections import OrderedDict\n",
    "import re\n",
    "pd.options.mode.chained_assignment = None\n",
    "from datetime import datetime, date"
   ]
  },
  {
   "cell_type": "code",
   "execution_count": 2,
   "metadata": {
    "collapsed": false
   },
   "outputs": [],
   "source": [
    "doc = etree.parse(\"worldbank-bd.xml\")"
   ]
  },
  {
   "cell_type": "code",
   "execution_count": 3,
   "metadata": {
    "collapsed": false
   },
   "outputs": [],
   "source": [
    "budgets = doc.xpath(\"//budget\")\n",
    "disbursements = doc.xpath(\"//transaction[transaction-type/@code='D']\")"
   ]
  },
  {
   "cell_type": "code",
   "execution_count": 4,
   "metadata": {
    "collapsed": true
   },
   "outputs": [],
   "source": [
    "def get_budget(budget):\n",
    "    date = budget.find(\"period-start\").get(\"iso-date\")\n",
    "    value = budget.find(\"value\").text\n",
    "    iatiidentifier = budget.getparent().find(\"iati-identifier\").text\n",
    "    budget_type = budget.get(\"type\")\n",
    "    return OrderedDict({\"date\": date, \n",
    "                        \"value\": float(value), \n",
    "                        \"iati-identifier\": iatiidentifier, \n",
    "                        \"budget-type\": budget_type})\n",
    "def process_budgets(budgets):\n",
    "    for budget in budgets:\n",
    "        yield get_budget(budget)\n",
    "\n",
    "def get_transaction(transaction):\n",
    "    date = transaction.find(\"transaction-date\").get(\"iso-date\")\n",
    "    value = transaction.find(\"value\").text\n",
    "    iatiidentifier = transaction.getparent().find(\"iati-identifier\").text\n",
    "    return {\"date\": date, \"value\": float(value), \"iati-identifier\": iatiidentifier}\n",
    "def process_transactions(transactions):\n",
    "    for transaction in transactions:\n",
    "        yield get_transaction(transaction)"
   ]
  },
  {
   "cell_type": "code",
   "execution_count": 5,
   "metadata": {
    "collapsed": false
   },
   "outputs": [],
   "source": [
    "def later_than_2015(budget):\n",
    "    date = budget[\"date\"]\n",
    "    return datetime.strptime(date, \"%Y-%m-%d\") > datetime(2015, 1, 1)\n",
    "def later_than_now(budget):\n",
    "    date = budget[\"date\"]\n",
    "    return datetime.strptime(date, \"%Y-%m-%d\") > datetime.utcnow()"
   ]
  },
  {
   "cell_type": "code",
   "execution_count": 6,
   "metadata": {
    "collapsed": false
   },
   "outputs": [],
   "source": [
    "b = process_budgets(budgets)\n",
    "budget_dates = pd.DataFrame(sorted(filter(later_than_2015, b)))\n",
    "t = process_transactions(disbursements)\n",
    "transaction_dates = pd.DataFrame(sorted(filter(later_than_2015, t)))"
   ]
  },
  {
   "cell_type": "markdown",
   "metadata": {},
   "source": [
    "### What are the top 10 budget dates (where the value is not empty)?"
   ]
  },
  {
   "cell_type": "code",
   "execution_count": 7,
   "metadata": {
    "collapsed": false
   },
   "outputs": [
    {
     "data": {
      "text/html": [
       "<div>\n",
       "<table border=\"1\" class=\"dataframe\">\n",
       "  <thead>\n",
       "    <tr style=\"text-align: right;\">\n",
       "      <th></th>\n",
       "      <th>budget-type</th>\n",
       "      <th>date</th>\n",
       "      <th>iati-identifier</th>\n",
       "      <th>value</th>\n",
       "    </tr>\n",
       "  </thead>\n",
       "  <tbody>\n",
       "    <tr>\n",
       "      <th>2718</th>\n",
       "      <td>2</td>\n",
       "      <td>2021-09-01</td>\n",
       "      <td>44000-P149553</td>\n",
       "      <td>1466666.67</td>\n",
       "    </tr>\n",
       "    <tr>\n",
       "      <th>1354</th>\n",
       "      <td>1</td>\n",
       "      <td>2021-09-01</td>\n",
       "      <td>44000-P149553</td>\n",
       "      <td>1466666.67</td>\n",
       "    </tr>\n",
       "    <tr>\n",
       "      <th>2717</th>\n",
       "      <td>2</td>\n",
       "      <td>2021-08-01</td>\n",
       "      <td>44000-P149553</td>\n",
       "      <td>1466666.67</td>\n",
       "    </tr>\n",
       "    <tr>\n",
       "      <th>1353</th>\n",
       "      <td>1</td>\n",
       "      <td>2021-08-01</td>\n",
       "      <td>44000-P149553</td>\n",
       "      <td>1466666.67</td>\n",
       "    </tr>\n",
       "    <tr>\n",
       "      <th>1352</th>\n",
       "      <td>1</td>\n",
       "      <td>2021-07-01</td>\n",
       "      <td>44000-P149553</td>\n",
       "      <td>1466666.66</td>\n",
       "    </tr>\n",
       "    <tr>\n",
       "      <th>2716</th>\n",
       "      <td>2</td>\n",
       "      <td>2021-07-01</td>\n",
       "      <td>44000-P149553</td>\n",
       "      <td>1466666.66</td>\n",
       "    </tr>\n",
       "    <tr>\n",
       "      <th>1351</th>\n",
       "      <td>1</td>\n",
       "      <td>2021-06-01</td>\n",
       "      <td>44000-P149553</td>\n",
       "      <td>2757333.34</td>\n",
       "    </tr>\n",
       "    <tr>\n",
       "      <th>2715</th>\n",
       "      <td>2</td>\n",
       "      <td>2021-06-01</td>\n",
       "      <td>44000-P149553</td>\n",
       "      <td>2757333.34</td>\n",
       "    </tr>\n",
       "    <tr>\n",
       "      <th>1349</th>\n",
       "      <td>1</td>\n",
       "      <td>2021-05-01</td>\n",
       "      <td>44000-P149553</td>\n",
       "      <td>2757333.33</td>\n",
       "    </tr>\n",
       "    <tr>\n",
       "      <th>2713</th>\n",
       "      <td>2</td>\n",
       "      <td>2021-05-01</td>\n",
       "      <td>44000-P149553</td>\n",
       "      <td>2757333.33</td>\n",
       "    </tr>\n",
       "  </tbody>\n",
       "</table>\n",
       "</div>"
      ],
      "text/plain": [
       "     budget-type        date iati-identifier       value\n",
       "2718           2  2021-09-01   44000-P149553  1466666.67\n",
       "1354           1  2021-09-01   44000-P149553  1466666.67\n",
       "2717           2  2021-08-01   44000-P149553  1466666.67\n",
       "1353           1  2021-08-01   44000-P149553  1466666.67\n",
       "1352           1  2021-07-01   44000-P149553  1466666.66\n",
       "2716           2  2021-07-01   44000-P149553  1466666.66\n",
       "1351           1  2021-06-01   44000-P149553  2757333.34\n",
       "2715           2  2021-06-01   44000-P149553  2757333.34\n",
       "1349           1  2021-05-01   44000-P149553  2757333.33\n",
       "2713           2  2021-05-01   44000-P149553  2757333.33"
      ]
     },
     "execution_count": 7,
     "metadata": {},
     "output_type": "execute_result"
    }
   ],
   "source": [
    "budget_dates[budget_dates.value>0].sort_values(by=\"date\", ascending=False).head(10)"
   ]
  },
  {
   "cell_type": "markdown",
   "metadata": {},
   "source": [
    "> There is good forward budget data"
   ]
  },
  {
   "cell_type": "markdown",
   "metadata": {},
   "source": [
    "### What are the top 10 Disbursement transaction dates?"
   ]
  },
  {
   "cell_type": "code",
   "execution_count": 8,
   "metadata": {
    "collapsed": false
   },
   "outputs": [
    {
     "data": {
      "text/html": [
       "<div>\n",
       "<table border=\"1\" class=\"dataframe\">\n",
       "  <thead>\n",
       "    <tr style=\"text-align: right;\">\n",
       "      <th></th>\n",
       "      <th>date</th>\n",
       "      <th>iati-identifier</th>\n",
       "      <th>value</th>\n",
       "    </tr>\n",
       "  </thead>\n",
       "  <tbody>\n",
       "    <tr>\n",
       "      <th>78</th>\n",
       "      <td>2015-09-30</td>\n",
       "      <td>44000-P132634</td>\n",
       "      <td>768087</td>\n",
       "    </tr>\n",
       "    <tr>\n",
       "      <th>66</th>\n",
       "      <td>2015-09-30</td>\n",
       "      <td>44000-P111272</td>\n",
       "      <td>4288481</td>\n",
       "    </tr>\n",
       "    <tr>\n",
       "      <th>55</th>\n",
       "      <td>2015-09-30</td>\n",
       "      <td>44000-P040712</td>\n",
       "      <td>1547158</td>\n",
       "    </tr>\n",
       "    <tr>\n",
       "      <th>56</th>\n",
       "      <td>2015-09-30</td>\n",
       "      <td>44000-P073886</td>\n",
       "      <td>4322309</td>\n",
       "    </tr>\n",
       "    <tr>\n",
       "      <th>58</th>\n",
       "      <td>2015-09-30</td>\n",
       "      <td>44000-P090807</td>\n",
       "      <td>3461183</td>\n",
       "    </tr>\n",
       "    <tr>\n",
       "      <th>59</th>\n",
       "      <td>2015-09-30</td>\n",
       "      <td>44000-P095965</td>\n",
       "      <td>7296842</td>\n",
       "    </tr>\n",
       "    <tr>\n",
       "      <th>61</th>\n",
       "      <td>2015-09-30</td>\n",
       "      <td>44000-P098151</td>\n",
       "      <td>2224824</td>\n",
       "    </tr>\n",
       "    <tr>\n",
       "      <th>62</th>\n",
       "      <td>2015-09-30</td>\n",
       "      <td>44000-P103999</td>\n",
       "      <td>22275025</td>\n",
       "    </tr>\n",
       "    <tr>\n",
       "      <th>63</th>\n",
       "      <td>2015-09-30</td>\n",
       "      <td>44000-P106161</td>\n",
       "      <td>21952044</td>\n",
       "    </tr>\n",
       "    <tr>\n",
       "      <th>64</th>\n",
       "      <td>2015-09-30</td>\n",
       "      <td>44000-P106216</td>\n",
       "      <td>7201356</td>\n",
       "    </tr>\n",
       "  </tbody>\n",
       "</table>\n",
       "</div>"
      ],
      "text/plain": [
       "          date iati-identifier     value\n",
       "78  2015-09-30   44000-P132634    768087\n",
       "66  2015-09-30   44000-P111272   4288481\n",
       "55  2015-09-30   44000-P040712   1547158\n",
       "56  2015-09-30   44000-P073886   4322309\n",
       "58  2015-09-30   44000-P090807   3461183\n",
       "59  2015-09-30   44000-P095965   7296842\n",
       "61  2015-09-30   44000-P098151   2224824\n",
       "62  2015-09-30   44000-P103999  22275025\n",
       "63  2015-09-30   44000-P106161  21952044\n",
       "64  2015-09-30   44000-P106216   7201356"
      ]
     },
     "execution_count": 8,
     "metadata": {},
     "output_type": "execute_result"
    }
   ],
   "source": [
    "transaction_dates[transaction_dates.value>0].sort_values(by=\"date\", ascending=False).head(10)"
   ]
  },
  {
   "cell_type": "markdown",
   "metadata": {},
   "source": [
    "> The most recent disbursement transactions were in September 2015"
   ]
  },
  {
   "cell_type": "code",
   "execution_count": null,
   "metadata": {
    "collapsed": true
   },
   "outputs": [],
   "source": []
  }
 ],
 "metadata": {
  "kernelspec": {
   "display_name": "Python 2",
   "language": "python",
   "name": "python2"
  },
  "language_info": {
   "codemirror_mode": {
    "name": "ipython",
    "version": 2
   },
   "file_extension": ".py",
   "mimetype": "text/x-python",
   "name": "python",
   "nbconvert_exporter": "python",
   "pygments_lexer": "ipython2",
   "version": "2.7.9"
  }
 },
 "nbformat": 4,
 "nbformat_minor": 0
}
